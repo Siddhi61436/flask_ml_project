{
 "cells": [
  {
   "cell_type": "code",
   "execution_count": 1,
   "id": "031aaf1c",
   "metadata": {},
   "outputs": [
    {
     "ename": "ModuleNotFoundError",
     "evalue": "No module named 'pandas'",
     "output_type": "error",
     "traceback": [
      "\u001b[0;31m---------------------------------------------------------------------------\u001b[0m",
      "\u001b[0;31mModuleNotFoundError\u001b[0m                       Traceback (most recent call last)",
      "Cell \u001b[0;32mIn[1], line 1\u001b[0m\n\u001b[0;32m----> 1\u001b[0m \u001b[38;5;28;01mimport\u001b[39;00m \u001b[38;5;21;01mpandas\u001b[39;00m \u001b[38;5;28;01mas\u001b[39;00m \u001b[38;5;21;01mpd\u001b[39;00m\n",
      "\u001b[0;31mModuleNotFoundError\u001b[0m: No module named 'pandas'"
     ]
    }
   ],
   "source": [
    "import pandas as pd"
   ]
  },
  {
   "cell_type": "code",
   "execution_count": 2,
   "id": "05e1b896",
   "metadata": {},
   "outputs": [
    {
     "name": "stdout",
     "output_type": "stream",
     "text": [
      "Defaulting to user installation because normal site-packages is not writeable\n",
      "Requirement already satisfied: pandas in /home/siddhi/.local/lib/python3.10/site-packages (2.0.3)\n",
      "Requirement already satisfied: python-dateutil>=2.8.2 in /home/siddhi/.local/lib/python3.10/site-packages (from pandas) (2.8.2)\n",
      "Requirement already satisfied: pytz>=2020.1 in /usr/lib/python3/dist-packages (from pandas) (2022.1)\n",
      "Requirement already satisfied: tzdata>=2022.1 in /home/siddhi/.local/lib/python3.10/site-packages (from pandas) (2023.3)\n",
      "Requirement already satisfied: numpy>=1.21.0 in /home/siddhi/.local/lib/python3.10/site-packages (from pandas) (1.23.5)\n",
      "Requirement already satisfied: six>=1.5 in /usr/lib/python3/dist-packages (from python-dateutil>=2.8.2->pandas) (1.16.0)\n"
     ]
    }
   ],
   "source": [
    "!pip install pandas\n",
    "# Install any other necessary packages\n"
   ]
  },
  {
   "cell_type": "code",
   "execution_count": 3,
   "id": "75f10b9c",
   "metadata": {},
   "outputs": [
    {
     "name": "stdout",
     "output_type": "stream",
     "text": [
      "Defaulting to user installation because normal site-packages is not writeable\n",
      "Requirement already satisfied: numpy in /home/siddhi/.local/lib/python3.10/site-packages (1.23.5)\n",
      "Requirement already satisfied: scikit-learn in /home/siddhi/.local/lib/python3.10/site-packages (1.2.0)\n",
      "Requirement already satisfied: scipy>=1.3.2 in /home/siddhi/.local/lib/python3.10/site-packages (from scikit-learn) (1.10.0)\n",
      "Requirement already satisfied: joblib>=1.1.1 in /home/siddhi/.local/lib/python3.10/site-packages (from scikit-learn) (1.2.0)\n",
      "Requirement already satisfied: threadpoolctl>=2.0.0 in /home/siddhi/.local/lib/python3.10/site-packages (from scikit-learn) (3.1.0)\n"
     ]
    }
   ],
   "source": [
    "!pip install numpy scikit-learn\n"
   ]
  },
  {
   "cell_type": "code",
   "execution_count": 4,
   "id": "7934e35e",
   "metadata": {},
   "outputs": [
    {
     "ename": "ModuleNotFoundError",
     "evalue": "No module named 'pandas'",
     "output_type": "error",
     "traceback": [
      "\u001b[0;31m---------------------------------------------------------------------------\u001b[0m",
      "\u001b[0;31mModuleNotFoundError\u001b[0m                       Traceback (most recent call last)",
      "Cell \u001b[0;32mIn[4], line 1\u001b[0m\n\u001b[0;32m----> 1\u001b[0m \u001b[38;5;28;01mimport\u001b[39;00m \u001b[38;5;21;01mpandas\u001b[39;00m \u001b[38;5;28;01mas\u001b[39;00m \u001b[38;5;21;01mpd\u001b[39;00m\n",
      "\u001b[0;31mModuleNotFoundError\u001b[0m: No module named 'pandas'"
     ]
    }
   ],
   "source": [
    "import pandas as pd"
   ]
  },
  {
   "cell_type": "code",
   "execution_count": 5,
   "id": "055f0b70",
   "metadata": {},
   "outputs": [
    {
     "name": "stdout",
     "output_type": "stream",
     "text": [
      "Defaulting to user installation because normal site-packages is not writeable\n",
      "Requirement already satisfied: pip in /home/siddhi/.local/lib/python3.10/site-packages (24.0)\n"
     ]
    }
   ],
   "source": [
    "!python3 -m pip install --upgrade pip"
   ]
  },
  {
   "cell_type": "code",
   "execution_count": 13,
   "id": "ec11dc88",
   "metadata": {},
   "outputs": [
    {
     "name": "stdout",
     "output_type": "stream",
     "text": [
      "Defaulting to user installation because normal site-packages is not writeable\n",
      "Requirement already satisfied: pandas in /home/siddhi/.local/lib/python3.10/site-packages (2.0.3)\n",
      "Requirement already satisfied: python-dateutil>=2.8.2 in /home/siddhi/.local/lib/python3.10/site-packages (from pandas) (2.8.2)\n",
      "Requirement already satisfied: pytz>=2020.1 in /usr/lib/python3/dist-packages (from pandas) (2022.1)\n",
      "Requirement already satisfied: tzdata>=2022.1 in /home/siddhi/.local/lib/python3.10/site-packages (from pandas) (2023.3)\n",
      "Requirement already satisfied: numpy>=1.21.0 in /home/siddhi/.local/lib/python3.10/site-packages (from pandas) (1.23.5)\n",
      "Requirement already satisfied: six>=1.5 in /usr/lib/python3/dist-packages (from python-dateutil>=2.8.2->pandas) (1.16.0)\n"
     ]
    }
   ],
   "source": [
    "!pip install pandas"
   ]
  },
  {
   "cell_type": "code",
   "execution_count": 14,
   "id": "9eeb97fd",
   "metadata": {},
   "outputs": [
    {
     "ename": "ModuleNotFoundError",
     "evalue": "No module named 'pandas'",
     "output_type": "error",
     "traceback": [
      "\u001b[0;31m---------------------------------------------------------------------------\u001b[0m",
      "\u001b[0;31mModuleNotFoundError\u001b[0m                       Traceback (most recent call last)",
      "Cell \u001b[0;32mIn[14], line 1\u001b[0m\n\u001b[0;32m----> 1\u001b[0m \u001b[38;5;28;01mimport\u001b[39;00m \u001b[38;5;21;01mpandas\u001b[39;00m \u001b[38;5;28;01mas\u001b[39;00m \u001b[38;5;21;01mpd\u001b[39;00m\n",
      "\u001b[0;31mModuleNotFoundError\u001b[0m: No module named 'pandas'"
     ]
    }
   ],
   "source": [
    "import pandas as pd"
   ]
  },
  {
   "cell_type": "code",
   "execution_count": 15,
   "id": "2257534d",
   "metadata": {},
   "outputs": [
    {
     "name": "stdout",
     "output_type": "stream",
     "text": [
      "/home/siddhi/Documents/Flask/project/flask_ml/bin/python\n",
      "['/usr/lib/python310.zip', '/usr/lib/python3.10', '/usr/lib/python3.10/lib-dynload', '', '/home/siddhi/Documents/Flask/project/flask_ml/lib/python3.10/site-packages']\n"
     ]
    }
   ],
   "source": [
    "import sys\n",
    "print(sys.executable)\n",
    "print(sys.path)\n"
   ]
  },
  {
   "cell_type": "code",
   "execution_count": 16,
   "id": "240f9f4d",
   "metadata": {},
   "outputs": [
    {
     "name": "stdout",
     "output_type": "stream",
     "text": [
      "Name: pandas\n",
      "Version: 2.0.3\n",
      "Summary: Powerful data structures for data analysis, time series, and statistics\n",
      "Home-page: \n",
      "Author: \n",
      "Author-email: The Pandas Development Team <pandas-dev@python.org>\n",
      "License: BSD 3-Clause License\n",
      "        \n",
      "        Copyright (c) 2008-2011, AQR Capital Management, LLC, Lambda Foundry, Inc. and PyData Development Team\n",
      "        All rights reserved.\n",
      "        \n",
      "        Copyright (c) 2011-2023, Open source contributors.\n",
      "        \n",
      "        Redistribution and use in source and binary forms, with or without\n",
      "        modification, are permitted provided that the following conditions are met:\n",
      "        \n",
      "        * Redistributions of source code must retain the above copyright notice, this\n",
      "          list of conditions and the following disclaimer.\n",
      "        \n",
      "        * Redistributions in binary form must reproduce the above copyright notice,\n",
      "          this list of conditions and the following disclaimer in the documentation\n",
      "          and/or other materials provided with the distribution.\n",
      "        \n",
      "        * Neither the name of the copyright holder nor the names of its\n",
      "          contributors may be used to endorse or promote products derived from\n",
      "          this software without specific prior written permission.\n",
      "        \n",
      "        THIS SOFTWARE IS PROVIDED BY THE COPYRIGHT HOLDERS AND CONTRIBUTORS \"AS IS\"\n",
      "        AND ANY EXPRESS OR IMPLIED WARRANTIES, INCLUDING, BUT NOT LIMITED TO, THE\n",
      "        IMPLIED WARRANTIES OF MERCHANTABILITY AND FITNESS FOR A PARTICULAR PURPOSE ARE\n",
      "        DISCLAIMED. IN NO EVENT SHALL THE COPYRIGHT HOLDER OR CONTRIBUTORS BE LIABLE\n",
      "        FOR ANY DIRECT, INDIRECT, INCIDENTAL, SPECIAL, EXEMPLARY, OR CONSEQUENTIAL\n",
      "        DAMAGES (INCLUDING, BUT NOT LIMITED TO, PROCUREMENT OF SUBSTITUTE GOODS OR\n",
      "        SERVICES; LOSS OF USE, DATA, OR PROFITS; OR BUSINESS INTERRUPTION) HOWEVER\n",
      "        CAUSED AND ON ANY THEORY OF LIABILITY, WHETHER IN CONTRACT, STRICT LIABILITY,\n",
      "        OR TORT (INCLUDING NEGLIGENCE OR OTHERWISE) ARISING IN ANY WAY OUT OF THE USE\n",
      "        OF THIS SOFTWARE, EVEN IF ADVISED OF THE POSSIBILITY OF SUCH DAMAGE.\n",
      "        \n",
      "Location: /home/siddhi/.local/lib/python3.10/site-packages\n",
      "Requires: numpy, python-dateutil, pytz, tzdata\n",
      "Required-by: altair, apache-superset, mlxtend, seaborn, streamlit\n"
     ]
    }
   ],
   "source": [
    "!pip show pandas\n"
   ]
  },
  {
   "cell_type": "code",
   "execution_count": 6,
   "id": "25c10651",
   "metadata": {},
   "outputs": [
    {
     "name": "stdout",
     "output_type": "stream",
     "text": [
      "Defaulting to user installation because normal site-packages is not writeable\n",
      "Requirement already satisfied: pandas in /home/siddhi/.local/lib/python3.10/site-packages (2.0.3)\n",
      "Collecting pandas\n",
      "  Downloading pandas-2.2.2-cp310-cp310-manylinux_2_17_x86_64.manylinux2014_x86_64.whl.metadata (19 kB)\n",
      "Requirement already satisfied: numpy>=1.22.4 in /home/siddhi/.local/lib/python3.10/site-packages (from pandas) (1.23.5)\n",
      "Requirement already satisfied: python-dateutil>=2.8.2 in /home/siddhi/.local/lib/python3.10/site-packages (from pandas) (2.8.2)\n",
      "Requirement already satisfied: pytz>=2020.1 in /usr/lib/python3/dist-packages (from pandas) (2022.1)\n",
      "Requirement already satisfied: tzdata>=2022.7 in /home/siddhi/.local/lib/python3.10/site-packages (from pandas) (2023.3)\n",
      "Requirement already satisfied: six>=1.5 in /usr/lib/python3/dist-packages (from python-dateutil>=2.8.2->pandas) (1.16.0)\n",
      "Downloading pandas-2.2.2-cp310-cp310-manylinux_2_17_x86_64.manylinux2014_x86_64.whl (13.0 MB)\n",
      "\u001b[2K   \u001b[38;2;114;156;31m━━━━━━━━━━━━━━━━━━━━━━━━━━━━━━━━━━━━━━━━\u001b[0m \u001b[32m13.0/13.0 MB\u001b[0m \u001b[31m4.8 MB/s\u001b[0m eta \u001b[36m0:00:00\u001b[0mm eta \u001b[36m0:00:01\u001b[0m0:01\u001b[0m:01\u001b[0m\n",
      "\u001b[?25hInstalling collected packages: pandas\n",
      "  Attempting uninstall: pandas\n",
      "    Found existing installation: pandas 2.0.3\n",
      "    Uninstalling pandas-2.0.3:\n",
      "      Successfully uninstalled pandas-2.0.3\n",
      "\u001b[31mERROR: pip's dependency resolver does not currently take into account all the packages that are installed. This behaviour is the source of the following dependency conflicts.\n",
      "apache-superset 4.0.1 requires pandas[performance]<2.1,>=2.0.3, but you have pandas 2.2.2 which is incompatible.\u001b[0m\u001b[31m\n",
      "\u001b[0mSuccessfully installed pandas-2.2.2\n"
     ]
    }
   ],
   "source": [
    "!pip install --upgrade pandas\n"
   ]
  },
  {
   "cell_type": "code",
   "execution_count": 7,
   "id": "ec956e9f",
   "metadata": {},
   "outputs": [
    {
     "ename": "ModuleNotFoundError",
     "evalue": "No module named 'pandas'",
     "output_type": "error",
     "traceback": [
      "\u001b[0;31m---------------------------------------------------------------------------\u001b[0m",
      "\u001b[0;31mModuleNotFoundError\u001b[0m                       Traceback (most recent call last)",
      "Cell \u001b[0;32mIn[7], line 1\u001b[0m\n\u001b[0;32m----> 1\u001b[0m \u001b[38;5;28;01mimport\u001b[39;00m \u001b[38;5;21;01mpandas\u001b[39;00m \u001b[38;5;28;01mas\u001b[39;00m \u001b[38;5;21;01mpd\u001b[39;00m\n",
      "\u001b[0;31mModuleNotFoundError\u001b[0m: No module named 'pandas'"
     ]
    }
   ],
   "source": [
    "import pandas as pd"
   ]
  },
  {
   "cell_type": "code",
   "execution_count": 8,
   "id": "019ec0b4",
   "metadata": {},
   "outputs": [
    {
     "name": "stdout",
     "output_type": "stream",
     "text": [
      "Found existing installation: pandas 2.2.2\n",
      "Uninstalling pandas-2.2.2:\n",
      "  Successfully uninstalled pandas-2.2.2\n"
     ]
    }
   ],
   "source": [
    "!pip uninstall pandas -y\n",
    "\n"
   ]
  },
  {
   "cell_type": "code",
   "execution_count": 9,
   "id": "c2b58675",
   "metadata": {},
   "outputs": [
    {
     "name": "stdout",
     "output_type": "stream",
     "text": [
      "Defaulting to user installation because normal site-packages is not writeable\n",
      "Collecting pandas\n",
      "  Using cached pandas-2.2.2-cp310-cp310-manylinux_2_17_x86_64.manylinux2014_x86_64.whl.metadata (19 kB)\n",
      "Requirement already satisfied: numpy>=1.22.4 in /home/siddhi/.local/lib/python3.10/site-packages (from pandas) (1.23.5)\n",
      "Requirement already satisfied: python-dateutil>=2.8.2 in /home/siddhi/.local/lib/python3.10/site-packages (from pandas) (2.8.2)\n",
      "Requirement already satisfied: pytz>=2020.1 in /usr/lib/python3/dist-packages (from pandas) (2022.1)\n",
      "Requirement already satisfied: tzdata>=2022.7 in /home/siddhi/.local/lib/python3.10/site-packages (from pandas) (2023.3)\n",
      "Requirement already satisfied: six>=1.5 in /usr/lib/python3/dist-packages (from python-dateutil>=2.8.2->pandas) (1.16.0)\n",
      "Using cached pandas-2.2.2-cp310-cp310-manylinux_2_17_x86_64.manylinux2014_x86_64.whl (13.0 MB)\n",
      "Installing collected packages: pandas\n",
      "\u001b[31mERROR: pip's dependency resolver does not currently take into account all the packages that are installed. This behaviour is the source of the following dependency conflicts.\n",
      "apache-superset 4.0.1 requires pandas[performance]<2.1,>=2.0.3, but you have pandas 2.2.2 which is incompatible.\u001b[0m\u001b[31m\n",
      "\u001b[0mSuccessfully installed pandas-2.2.2\n"
     ]
    }
   ],
   "source": [
    "!pip install pandas\n"
   ]
  },
  {
   "cell_type": "code",
   "execution_count": 3,
   "id": "18e9e54e",
   "metadata": {},
   "outputs": [
    {
     "ename": "ModuleNotFoundError",
     "evalue": "No module named 'pandas'",
     "output_type": "error",
     "traceback": [
      "\u001b[0;31m---------------------------------------------------------------------------\u001b[0m",
      "\u001b[0;31mModuleNotFoundError\u001b[0m                       Traceback (most recent call last)",
      "Cell \u001b[0;32mIn[3], line 1\u001b[0m\n\u001b[0;32m----> 1\u001b[0m \u001b[38;5;28;01mimport\u001b[39;00m \u001b[38;5;21;01mpandas\u001b[39;00m \u001b[38;5;28;01mas\u001b[39;00m \u001b[38;5;21;01mpd\u001b[39;00m\n\u001b[1;32m      2\u001b[0m \u001b[38;5;28mprint\u001b[39m(pd\u001b[38;5;241m.\u001b[39m__version__)\n",
      "\u001b[0;31mModuleNotFoundError\u001b[0m: No module named 'pandas'"
     ]
    }
   ],
   "source": [
    "import pandas as pd\n",
    "print(pd.__version__)\n"
   ]
  },
  {
   "cell_type": "code",
   "execution_count": 2,
   "id": "25a84a3e",
   "metadata": {},
   "outputs": [
    {
     "name": "stdout",
     "output_type": "stream",
     "text": [
      "Defaulting to user installation because normal site-packages is not writeable\n",
      "Requirement already satisfied: pandas in /home/siddhi/.local/lib/python3.10/site-packages (2.2.2)\n",
      "Requirement already satisfied: numpy>=1.22.4 in /home/siddhi/.local/lib/python3.10/site-packages (from pandas) (1.23.5)\n",
      "Requirement already satisfied: python-dateutil>=2.8.2 in /home/siddhi/.local/lib/python3.10/site-packages (from pandas) (2.8.2)\n",
      "Requirement already satisfied: pytz>=2020.1 in /usr/lib/python3/dist-packages (from pandas) (2022.1)\n",
      "Requirement already satisfied: tzdata>=2022.7 in /home/siddhi/.local/lib/python3.10/site-packages (from pandas) (2023.3)\n",
      "Requirement already satisfied: six>=1.5 in /usr/lib/python3/dist-packages (from python-dateutil>=2.8.2->pandas) (1.16.0)\n"
     ]
    }
   ],
   "source": [
    "!/usr/bin/python3 -m pip install pandas\n"
   ]
  },
  {
   "cell_type": "code",
   "execution_count": 4,
   "id": "999ec079",
   "metadata": {},
   "outputs": [
    {
     "name": "stdout",
     "output_type": "stream",
     "text": [
      "Package                  Version\n",
      "------------------------ ----------------\n",
      "alembic                  1.11.1\n",
      "altair                   4.2.2\n",
      "amqp                     5.1.1\n",
      "annotated-types          0.7.0\n",
      "anyio                    3.6.2\n",
      "apache-superset          4.0.1\n",
      "apispec                  6.6.1\n",
      "apsw                     3.46.0.0\n",
      "apturl                   0.5.2\n",
      "apyori                   1.1.2\n",
      "argon2-cffi              21.3.0\n",
      "argon2-cffi-bindings     21.2.0\n",
      "arrow                    1.2.3\n",
      "asttokens                2.2.1\n",
      "async-generator          1.10\n",
      "async-timeout            4.0.2\n",
      "attrs                    23.2.0\n",
      "autopep8                 2.0.2\n",
      "awscli                   1.22.34\n",
      "Babel                    2.12.1\n",
      "backcall                 0.2.0\n",
      "backoff                  2.2.1\n",
      "bcrypt                   3.2.0\n",
      "beautifulsoup4           4.12.2\n",
      "billiard                 4.2.0\n",
      "bleach                   3.3.1\n",
      "blinker                  1.8.2\n",
      "botocore                 1.23.34\n",
      "Bottleneck               1.3.8\n",
      "Brlapi                   0.8.3\n",
      "Brotli                   1.0.9\n",
      "bs4                      0.0.1\n",
      "cachelib                 0.9.0\n",
      "cachetools               5.3.0\n",
      "cattrs                   23.2.3\n",
      "celery                   5.4.0\n",
      "certifi                  2023.5.7\n",
      "cffi                     1.15.1\n",
      "chardet                  4.0.0\n",
      "charset-normalizer       3.3.2\n",
      "chrome-gnome-shell       0.0.0\n",
      "click                    8.1.7\n",
      "click-didyoumean         0.3.0\n",
      "click-option-group       0.5.6\n",
      "click-plugins            1.1.1\n",
      "click-repl               0.2.0\n",
      "colorama                 0.4.4\n",
      "comm                     0.1.3\n",
      "command-not-found        0.3\n",
      "contourpy                1.0.7\n",
      "convertdate              2.4.0\n",
      "cron-descriptor          1.4.0\n",
      "croniter                 1.3.14\n",
      "cryptography             42.0.8\n",
      "cupshelpers              1.0\n",
      "cycler                   0.11.0\n",
      "dbus-python              1.2.18\n",
      "debugpy                  1.6.7\n",
      "decorator                5.1.1\n",
      "defer                    1.0.6\n",
      "defusedxml               0.7.1\n",
      "Deprecated               1.2.13\n",
      "deprecation              2.1.0\n",
      "distlib                  0.3.7\n",
      "distro                   1.7.0\n",
      "distro-info              1.1+ubuntu0.1\n",
      "dnspython                2.3.0\n",
      "docutils                 0.17.1\n",
      "dominate                 2.9.1\n",
      "duplicity                0.8.21\n",
      "email-validator          1.3.1\n",
      "entrypoints              0.4\n",
      "exceptiongroup           1.1.1\n",
      "executing                1.2.0\n",
      "fasteners                0.14.1\n",
      "fastjsonschema           2.16.3\n",
      "filelock                 3.12.4\n",
      "Flask                    2.3.3\n",
      "Flask-AppBuilder         4.5.0\n",
      "Flask-Babel              2.0.0\n",
      "Flask-Bootstrap          3.3.7.1\n",
      "Flask-Caching            2.3.0\n",
      "Flask-Compress           1.13\n",
      "Flask-JWT-Extended       4.6.0\n",
      "Flask-Limiter            3.3.1\n",
      "Flask-Login              0.6.3\n",
      "Flask-Migrate            3.1.0\n",
      "Flask-Session            0.8.0\n",
      "Flask-SQLAlchemy         2.5.1\n",
      "flask-talisman           1.0.0\n",
      "Flask-WTF                1.2.1\n",
      "fonttools                4.39.3\n",
      "fqdn                     1.5.1\n",
      "func-timeout             4.3.5\n",
      "future                   0.18.2\n",
      "geographiclib            2.0\n",
      "geopy                    2.3.0\n",
      "gitdb                    4.0.10\n",
      "GitPython                3.1.31\n",
      "google-auth              2.30.0\n",
      "gpg                      1.16.0\n",
      "graphlib-backport        1.0.3\n",
      "greenlet                 2.0.2\n",
      "gunicorn                 21.2.0\n",
      "h11                      0.14.0\n",
      "hashids                  1.3.1\n",
      "hijri-converter          2.3.1\n",
      "holidays                 0.25\n",
      "html5lib                 1.1\n",
      "httpcore                 1.0.5\n",
      "httplib2                 0.20.2\n",
      "httpx                    0.27.0\n",
      "humanize                 4.6.0\n",
      "idna                     3.3\n",
      "importlib-metadata       4.6.4\n",
      "importlib-resources      5.12.0\n",
      "ipykernel                6.22.0\n",
      "ipython                  8.12.0\n",
      "ipython-genutils         0.2.0\n",
      "ipywidgets               8.0.6\n",
      "isodate                  0.6.1\n",
      "isoduration              20.11.0\n",
      "itsdangerous             2.1.2\n",
      "jedi                     0.18.2\n",
      "jeepney                  0.7.1\n",
      "Jinja2                   3.1.2\n",
      "jmespath                 0.10.0\n",
      "joblib                   1.2.0\n",
      "jsonpointer              2.3\n",
      "jsonschema               4.17.3\n",
      "jupyter                  1.0.0\n",
      "jupyter_client           8.1.0\n",
      "jupyter-console          6.6.3\n",
      "jupyter_core             5.3.0\n",
      "jupyter-events           0.6.3\n",
      "jupyter_server           2.5.0\n",
      "jupyter_server_terminals 0.4.4\n",
      "jupyterlab-pygments      0.2.2\n",
      "jupyterlab-widgets       3.0.7\n",
      "keyring                  23.5.0\n",
      "kiwisolver               1.4.4\n",
      "kombu                    5.3.7\n",
      "korean-lunar-calendar    0.3.1\n",
      "language-selector        0.1\n",
      "launchpadlib             1.10.16\n",
      "lazr.restfulclient       0.14.4\n",
      "lazr.uri                 1.0.6\n",
      "libcomps                 0.1.15\n",
      "limits                   3.5.0\n",
      "llvmlite                 0.43.0\n",
      "lockfile                 0.12.2\n",
      "louis                    3.20.0\n",
      "lxml                     4.9.2\n",
      "macaroonbakery           1.3.1\n",
      "Mako                     1.3.5\n",
      "Markdown                 3.4.3\n",
      "markdown-it-py           2.2.0\n",
      "MarkupSafe               2.1.1\n",
      "marshmallow              3.19.0\n",
      "marshmallow-enum         1.5.1\n",
      "marshmallow-sqlalchemy   0.26.1\n",
      "matplotlib               3.7.1\n",
      "matplotlib-inline        0.1.6\n",
      "mdurl                    0.1.2\n",
      "mistune                  2.0.5\n",
      "mlxtend                  0.22.0\n",
      "monotonic                1.6\n",
      "more-itertools           8.10.0\n",
      "msgpack                  1.0.5\n",
      "msgspec                  0.18.6\n",
      "mysql-connector          2.2.9\n",
      "nbclassic                0.5.5\n",
      "nbclient                 0.7.3\n",
      "nbconvert                7.3.1\n",
      "nbformat                 5.8.0\n",
      "nest-asyncio             1.5.6\n",
      "netifaces                0.11.0\n",
      "nh3                      0.2.17\n",
      "nltk                     3.8.1\n",
      "notebook                 6.5.4\n",
      "notebook_shim            0.2.2\n",
      "numba                    0.60.0\n",
      "numexpr                  2.10.0\n",
      "numpy                    1.23.5\n",
      "oauthlib                 3.2.0\n",
      "olefile                  0.46\n",
      "openai                   1.30.5\n",
      "ordered-set              4.1.0\n",
      "outcome                  1.2.0\n",
      "packaging                23.0\n",
      "pandas                   2.2.2\n",
      "pandocfilters            1.5.0\n",
      "paramiko                 3.4.0\n",
      "parsedatetime            2.6\n",
      "parso                    0.8.3\n",
      "pexpect                  4.8.0\n",
      "pgsanity                 0.2.9\n",
      "pickleshare              0.7.5\n",
      "Pillow                   9.0.1\n",
      "pip                      24.0\n",
      "platformdirs             3.10.0\n",
      "polyline                 2.0.0\n",
      "prison                   0.2.1\n",
      "prometheus-client        0.16.0\n",
      "prompt-toolkit           3.0.38\n",
      "protobuf                 4.25.3\n",
      "psutil                   5.9.4\n",
      "ptyprocess               0.7.0\n",
      "pure-eval                0.2.2\n",
      "pyarrow                  14.0.2\n",
      "pyasn1                   0.4.8\n",
      "pyasn1_modules           0.4.0\n",
      "pycairo                  1.20.1\n",
      "pycodestyle              2.10.0\n",
      "pycparser                2.21\n",
      "pycups                   2.0.1\n",
      "pydantic                 2.7.2\n",
      "pydantic_core            2.18.3\n",
      "pydeck                   0.8.0\n",
      "Pygments                 2.14.0\n",
      "PyGObject                3.42.1\n",
      "PyJWT                    2.7.0\n",
      "pymacaroons              0.13.0\n",
      "PyMeeus                  0.5.12\n",
      "pymongo                  4.5.0\n",
      "Pympler                  1.0.1\n",
      "PyNaCl                   1.5.0\n",
      "pyOpenSSL                24.1.0\n",
      "pyparsing                3.0.9\n",
      "pyRFC3339                1.1\n",
      "pyrsistent               0.19.3\n",
      "PySocks                  1.7.1\n",
      "python-apt               2.4.0+ubuntu2\n",
      "python-dateutil          2.8.2\n",
      "python-debian            0.1.43+ubuntu1.1\n",
      "python-dotenv            1.0.0\n",
      "python-geohash           0.8.5\n",
      "python-json-logger       2.0.7\n",
      "pytz                     2022.1\n",
      "pytz-deprecation-shim    0.1.0.post0\n",
      "pyxdg                    0.27\n",
      "PyYAML                   6.0.1\n",
      "pyzmq                    25.0.2\n",
      "qtconsole                5.4.2\n",
      "QtPy                     2.3.1\n",
      "redis                    4.5.5\n",
      "regex                    2023.8.8\n",
      "reportlab                3.6.8\n",
      "requests                 2.31.0\n",
      "requests-cache           1.2.0\n",
      "rfc3339-validator        0.1.4\n",
      "rfc3986-validator        0.1.1\n",
      "rich                     13.3.3\n",
      "roman                    3.3\n",
      "rpm                      4.17.0\n",
      "rsa                      4.8\n",
      "s3transfer               0.5.0\n",
      "scikit-learn             1.2.0\n",
      "scipy                    1.10.0\n",
      "seaborn                  0.12.2\n",
      "SecretStorage            3.3.1\n",
      "selenium                 4.9.1\n",
      "Send2Trash               1.8.0\n",
      "setuptools               59.6.0\n",
      "shillelagh               1.2.19\n",
      "shortid                  0.1.2\n",
      "simplejson               3.19.1\n",
      "six                      1.16.0\n",
      "slack-sdk                3.21.3\n",
      "smmap                    5.0.0\n",
      "sniffio                  1.3.0\n",
      "sortedcontainers         2.4.0\n",
      "soupsieve                2.4\n",
      "SQLAlchemy               1.4.48\n",
      "SQLAlchemy-Utils         0.38.3\n",
      "sqlglot                  23.17.0\n",
      "sqlparse                 0.4.4\n",
      "ssh-import-id            5.11\n",
      "sshtunnel                0.4.0\n",
      "stack-data               0.6.2\n",
      "streamlit                1.34.0\n",
      "systemd-python           234\n",
      "tabulate                 0.8.10\n",
      "tenacity                 8.3.0\n",
      "terminado                0.17.1\n",
      "threadpoolctl            3.1.0\n",
      "tinycss2                 1.2.1\n",
      "toml                     0.10.2\n",
      "tomli                    2.0.1\n",
      "toolz                    0.12.0\n",
      "tornado                  6.2\n",
      "tqdm                     4.66.1\n",
      "traitlets                5.9.0\n",
      "trio                     0.22.0\n",
      "trio-websocket           0.10.2\n",
      "typing_extensions        4.12.1\n",
      "tzdata                   2023.3\n",
      "tzlocal                  4.3\n",
      "ubuntu-advantage-tools   8001\n",
      "ubuntu-drivers-common    0.0.0\n",
      "ufw                      0.36.1\n",
      "unattended-upgrades      0.1\n",
      "uri-template             1.2.0\n",
      "url-normalize            1.4.3\n",
      "urllib3                  1.26.5\n",
      "usb-creator              0.3.7\n",
      "validators               0.20.0\n",
      "vine                     5.1.0\n",
      "virtualenv               20.24.5\n",
      "visitor                  0.1.3\n",
      "wadllib                  1.3.6\n",
      "watchdog                 3.0.0\n",
      "wcwidth                  0.2.6\n",
      "webcolors                1.13\n",
      "webencodings             0.5.1\n",
      "websocket-client         1.5.1\n",
      "Werkzeug                 3.0.3\n",
      "wheel                    0.37.1\n",
      "widgetsnbextension       4.0.7\n",
      "wrapt                    1.15.0\n",
      "wsproto                  1.2.0\n",
      "WTForms                  2.3.3\n",
      "WTForms-JSON             0.3.5\n",
      "xdg                      5\n",
      "xgboost                  2.0.0\n",
      "xkit                     0.0.0\n",
      "XlsxWriter               3.0.9\n",
      "zipp                     1.0.0\n"
     ]
    }
   ],
   "source": [
    "!pip list\n"
   ]
  },
  {
   "cell_type": "code",
   "execution_count": 5,
   "id": "041fabe8",
   "metadata": {},
   "outputs": [
    {
     "name": "stdout",
     "output_type": "stream",
     "text": [
      "Defaulting to user installation because normal site-packages is not writeable\n",
      "Requirement already satisfied: flask in /home/siddhi/.local/lib/python3.10/site-packages (2.3.3)\n",
      "Requirement already satisfied: pandas in /home/siddhi/.local/lib/python3.10/site-packages (2.2.2)\n",
      "Requirement already satisfied: Werkzeug>=2.3.7 in /home/siddhi/.local/lib/python3.10/site-packages (from flask) (3.0.3)\n",
      "Requirement already satisfied: Jinja2>=3.1.2 in /home/siddhi/.local/lib/python3.10/site-packages (from flask) (3.1.2)\n",
      "Requirement already satisfied: itsdangerous>=2.1.2 in /home/siddhi/.local/lib/python3.10/site-packages (from flask) (2.1.2)\n",
      "Requirement already satisfied: click>=8.1.3 in /home/siddhi/.local/lib/python3.10/site-packages (from flask) (8.1.7)\n",
      "Requirement already satisfied: blinker>=1.6.2 in /home/siddhi/.local/lib/python3.10/site-packages (from flask) (1.8.2)\n",
      "Requirement already satisfied: numpy>=1.22.4 in /home/siddhi/.local/lib/python3.10/site-packages (from pandas) (1.23.5)\n",
      "Requirement already satisfied: python-dateutil>=2.8.2 in /home/siddhi/.local/lib/python3.10/site-packages (from pandas) (2.8.2)\n",
      "Requirement already satisfied: pytz>=2020.1 in /usr/lib/python3/dist-packages (from pandas) (2022.1)\n",
      "Requirement already satisfied: tzdata>=2022.7 in /home/siddhi/.local/lib/python3.10/site-packages (from pandas) (2023.3)\n",
      "Requirement already satisfied: MarkupSafe>=2.0 in /home/siddhi/.local/lib/python3.10/site-packages (from Jinja2>=3.1.2->flask) (2.1.1)\n",
      "Requirement already satisfied: six>=1.5 in /usr/lib/python3/dist-packages (from python-dateutil>=2.8.2->pandas) (1.16.0)\n"
     ]
    }
   ],
   "source": [
    "!python3 -m venv myenv\n",
    "!source myenv/bin/activate\n",
    "!pip install flask pandas\n"
   ]
  },
  {
   "cell_type": "code",
   "execution_count": 6,
   "id": "190a641f",
   "metadata": {},
   "outputs": [
    {
     "name": "stdout",
     "output_type": "stream",
     "text": [
      "/bin/bash: line 1: python: command not found\r\n"
     ]
    }
   ],
   "source": [
    "!python -m ipykernel install --user --name=myenv --display-name \"Python (myenv)\"\n"
   ]
  },
  {
   "cell_type": "code",
   "execution_count": 7,
   "id": "100d1872",
   "metadata": {},
   "outputs": [
    {
     "name": "stdout",
     "output_type": "stream",
     "text": [
      "Installed kernelspec myenv in /home/siddhi/.local/share/jupyter/kernels/myenv\r\n"
     ]
    }
   ],
   "source": [
    "!python3 -m ipykernel install --user --name=myenv --display-name \"Python (myenv)\"\n"
   ]
  },
  {
   "cell_type": "code",
   "execution_count": 9,
   "id": "a899823e",
   "metadata": {},
   "outputs": [
    {
     "ename": "ModuleNotFoundError",
     "evalue": "No module named 'pandas'",
     "output_type": "error",
     "traceback": [
      "\u001b[0;31m---------------------------------------------------------------------------\u001b[0m",
      "\u001b[0;31mModuleNotFoundError\u001b[0m                       Traceback (most recent call last)",
      "Cell \u001b[0;32mIn[9], line 1\u001b[0m\n\u001b[0;32m----> 1\u001b[0m \u001b[38;5;28;01mimport\u001b[39;00m \u001b[38;5;21;01mpandas\u001b[39;00m \u001b[38;5;28;01mas\u001b[39;00m \u001b[38;5;21;01mpd\u001b[39;00m\n",
      "\u001b[0;31mModuleNotFoundError\u001b[0m: No module named 'pandas'"
     ]
    }
   ],
   "source": [
    "import pandas as pd"
   ]
  },
  {
   "cell_type": "code",
   "execution_count": 10,
   "id": "4d06a3b2",
   "metadata": {},
   "outputs": [
    {
     "ename": "ModuleNotFoundError",
     "evalue": "No module named 'matplotlib'",
     "output_type": "error",
     "traceback": [
      "\u001b[0;31m---------------------------------------------------------------------------\u001b[0m",
      "\u001b[0;31mModuleNotFoundError\u001b[0m                       Traceback (most recent call last)",
      "Cell \u001b[0;32mIn[10], line 1\u001b[0m\n\u001b[0;32m----> 1\u001b[0m \u001b[38;5;28;01mimport\u001b[39;00m \u001b[38;5;21;01mmatplotlib\u001b[39;00m\u001b[38;5;21;01m.\u001b[39;00m\u001b[38;5;21;01mpyplot\u001b[39;00m \u001b[38;5;28;01mas\u001b[39;00m \u001b[38;5;21;01mplt\u001b[39;00m\n\u001b[1;32m      2\u001b[0m \u001b[38;5;28;01mimport\u001b[39;00m \u001b[38;5;21;01mseaborn\u001b[39;00m \u001b[38;5;28;01mas\u001b[39;00m \u001b[38;5;21;01msns\u001b[39;00m\n",
      "\u001b[0;31mModuleNotFoundError\u001b[0m: No module named 'matplotlib'"
     ]
    }
   ],
   "source": [
    "import matplotlib.pyplot as plt\n",
    "import seaborn as sns"
   ]
  },
  {
   "cell_type": "code",
   "execution_count": 11,
   "id": "b5de0ea0",
   "metadata": {},
   "outputs": [
    {
     "name": "stdout",
     "output_type": "stream",
     "text": [
      "Defaulting to user installation because normal site-packages is not writeable\n",
      "Collecting feature_engine\n",
      "  Downloading feature_engine-1.8.0-py2.py3-none-any.whl.metadata (9.8 kB)\n",
      "Requirement already satisfied: numpy>=1.18.2 in /home/siddhi/.local/lib/python3.10/site-packages (from feature_engine) (1.23.5)\n",
      "Requirement already satisfied: pandas>=2.2.0 in /home/siddhi/.local/lib/python3.10/site-packages (from feature_engine) (2.2.2)\n",
      "Collecting scikit-learn>=1.4.0 (from feature_engine)\n",
      "  Downloading scikit_learn-1.5.0-cp310-cp310-manylinux_2_17_x86_64.manylinux2014_x86_64.whl.metadata (11 kB)\n",
      "Requirement already satisfied: scipy>=1.4.1 in /home/siddhi/.local/lib/python3.10/site-packages (from feature_engine) (1.10.0)\n",
      "Collecting statsmodels>=0.11.1 (from feature_engine)\n",
      "  Downloading statsmodels-0.14.2-cp310-cp310-manylinux_2_17_x86_64.manylinux2014_x86_64.whl.metadata (9.2 kB)\n",
      "Requirement already satisfied: python-dateutil>=2.8.2 in /home/siddhi/.local/lib/python3.10/site-packages (from pandas>=2.2.0->feature_engine) (2.8.2)\n",
      "Requirement already satisfied: pytz>=2020.1 in /usr/lib/python3/dist-packages (from pandas>=2.2.0->feature_engine) (2022.1)\n",
      "Requirement already satisfied: tzdata>=2022.7 in /home/siddhi/.local/lib/python3.10/site-packages (from pandas>=2.2.0->feature_engine) (2023.3)\n",
      "Requirement already satisfied: joblib>=1.2.0 in /home/siddhi/.local/lib/python3.10/site-packages (from scikit-learn>=1.4.0->feature_engine) (1.2.0)\n",
      "Requirement already satisfied: threadpoolctl>=3.1.0 in /home/siddhi/.local/lib/python3.10/site-packages (from scikit-learn>=1.4.0->feature_engine) (3.1.0)\n",
      "Collecting patsy>=0.5.6 (from statsmodels>=0.11.1->feature_engine)\n",
      "  Downloading patsy-0.5.6-py2.py3-none-any.whl.metadata (3.5 kB)\n",
      "Requirement already satisfied: packaging>=21.3 in /home/siddhi/.local/lib/python3.10/site-packages (from statsmodels>=0.11.1->feature_engine) (23.0)\n",
      "Requirement already satisfied: six in /usr/lib/python3/dist-packages (from patsy>=0.5.6->statsmodels>=0.11.1->feature_engine) (1.16.0)\n",
      "Downloading feature_engine-1.8.0-py2.py3-none-any.whl (357 kB)\n",
      "\u001b[2K   \u001b[38;2;114;156;31m━━━━━━━━━━━━━━━━━━━━━━━━━━━━━━━━━━━━━━━━\u001b[0m \u001b[32m357.1/357.1 kB\u001b[0m \u001b[31m1.3 MB/s\u001b[0m eta \u001b[36m0:00:00\u001b[0m[31m1.3 MB/s\u001b[0m eta \u001b[36m0:00:01\u001b[0mm\n",
      "\u001b[?25hDownloading scikit_learn-1.5.0-cp310-cp310-manylinux_2_17_x86_64.manylinux2014_x86_64.whl (13.3 MB)\n",
      "\u001b[2K   \u001b[38;2;114;156;31m━━━━━━━━━━━━━━━━━━━━━━━━━━━━━━━━━━━━━━━━\u001b[0m \u001b[32m13.3/13.3 MB\u001b[0m \u001b[31m6.2 MB/s\u001b[0m eta \u001b[36m0:00:00\u001b[0mm eta \u001b[36m0:00:01\u001b[0m[36m0:00:01\u001b[0m\n",
      "\u001b[?25hDownloading statsmodels-0.14.2-cp310-cp310-manylinux_2_17_x86_64.manylinux2014_x86_64.whl (10.8 MB)\n",
      "\u001b[2K   \u001b[38;2;114;156;31m━━━━━━━━━━━━━━━━━━━━━━━━━━━━━━━━━━━━━━━━\u001b[0m \u001b[32m10.8/10.8 MB\u001b[0m \u001b[31m6.2 MB/s\u001b[0m eta \u001b[36m0:00:00\u001b[0mm eta \u001b[36m0:00:01\u001b[0m0:01\u001b[0m01\u001b[0m\n",
      "\u001b[?25hDownloading patsy-0.5.6-py2.py3-none-any.whl (233 kB)\n",
      "\u001b[2K   \u001b[38;2;114;156;31m━━━━━━━━━━━━━━━━━━━━━━━━━━━━━━━━━━━━━━━━\u001b[0m \u001b[32m233.9/233.9 kB\u001b[0m \u001b[31m5.9 MB/s\u001b[0m eta \u001b[36m0:00:00\u001b[0m[31m6.8 MB/s\u001b[0m eta \u001b[36m0:00:01\u001b[0m\n",
      "\u001b[?25hInstalling collected packages: patsy, scikit-learn, statsmodels, feature_engine\n",
      "  Attempting uninstall: scikit-learn\n",
      "    Found existing installation: scikit-learn 1.2.0\n",
      "    Uninstalling scikit-learn-1.2.0:\n",
      "      Successfully uninstalled scikit-learn-1.2.0\n",
      "Successfully installed feature_engine-1.8.0 patsy-0.5.6 scikit-learn-1.5.0 statsmodels-0.14.2\n"
     ]
    }
   ],
   "source": [
    "!pip install feature_engine\n"
   ]
  },
  {
   "cell_type": "code",
   "execution_count": null,
   "id": "0ac4acc6",
   "metadata": {},
   "outputs": [],
   "source": []
  }
 ],
 "metadata": {
  "kernelspec": {
   "display_name": "Python (flask_ml)",
   "language": "python",
   "name": "flask_ml"
  },
  "language_info": {
   "codemirror_mode": {
    "name": "ipython",
    "version": 3
   },
   "file_extension": ".py",
   "mimetype": "text/x-python",
   "name": "python",
   "nbconvert_exporter": "python",
   "pygments_lexer": "ipython3",
   "version": "3.10.12"
  }
 },
 "nbformat": 4,
 "nbformat_minor": 5
}
